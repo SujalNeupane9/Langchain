{
  "nbformat": 4,
  "nbformat_minor": 0,
  "metadata": {
    "colab": {
      "provenance": []
    },
    "kernelspec": {
      "name": "python3",
      "display_name": "Python 3"
    },
    "language_info": {
      "name": "python"
    }
  },
  "cells": [
    {
      "cell_type": "code",
      "execution_count": 1,
      "metadata": {
        "id": "XdoqrfOckA4F"
      },
      "outputs": [],
      "source": [
        "%%capture\n",
        "!pip install -q langchain openai python-dotenv newspaper3k"
      ]
    },
    {
      "cell_type": "code",
      "source": [
        "import os\n",
        "import requests\n",
        "from newspaper import Article\n",
        "\n",
        "from langchain.schema import (\n",
        "    HumanMessage\n",
        ")\n",
        "from langchain.chat_models import ChatOpenAI\n",
        "\n",
        "os.environ[\"OPENAI_API_KEY\"] = '.............'"
      ],
      "metadata": {
        "id": "J6dJP7VnkRH5"
      },
      "execution_count": 2,
      "outputs": []
    },
    {
      "cell_type": "code",
      "source": [
        "##Get header from this site: https://whatmyuseragent.com/\n",
        "headers = {\n",
        "    \"User-Agent\":'Mozilla/5.0 (Windows NT 10.0; Win64; x64) AppleWebKit/537.36 (KHTML, like Gecko) Chrome/120.0.0.0 Safari/537.36 Edg/120.0.0.0'\n",
        "}\n",
        "\n",
        "url = \"https://www.artificialintelligence-news.com/2022/01/25/meta-claims-new-ai-supercomputer-will-set-records/\"\n",
        "\n",
        "session = requests.Session()\n",
        "\n",
        "\n",
        "try:\n",
        "    response = session.get(url, headers=headers, timeout=10)\n",
        "\n",
        "    if response.status_code == 200:\n",
        "        article = Article(url)\n",
        "        article.download()\n",
        "        article.parse()\n",
        "\n",
        "        print(f\"Title: {article.title}\")\n",
        "        print(f\"Text: {article.text}\")\n",
        "    else:\n",
        "        print(f\"Failed to fetch article at {url}\")\n",
        "except Exception as e:\n",
        "    print(f\"Error occurred while fetching article at {url}: {e}\")"
      ],
      "metadata": {
        "colab": {
          "base_uri": "https://localhost:8080/"
        },
        "id": "DSJ9nWglkRFg",
        "outputId": "098ec74c-8a3d-4225-abe0-55ae6ddf443e"
      },
      "execution_count": 3,
      "outputs": [
        {
          "output_type": "stream",
          "name": "stdout",
          "text": [
            "Title: Meta claims its new AI supercomputer will set records\n",
            "Text: Ryan is a senior editor at TechForge Media with over a decade of experience covering the latest technology and interviewing leading industry figures. He can often be sighted at tech conferences with a strong coffee in one hand and a laptop in the other. If it's geeky, he’s probably into it. Find him on Twitter (@Gadget_Ry) or Mastodon (@gadgetry@techhub.social)\n",
            "\n",
            "Meta (formerly Facebook) has unveiled an AI supercomputer that it claims will be the world’s fastest.\n",
            "\n",
            "The supercomputer is called the AI Research SuperCluster (RSC) and is yet to be fully complete. However, Meta’s researchers have already begun using it for training large natural language processing (NLP) and computer vision models.\n",
            "\n",
            "RSC is set to be fully built in mid-2022. Meta says that it will be the fastest in the world once complete and the aim is for it to be capable of training models with trillions of parameters.\n",
            "\n",
            "“We hope RSC will help us build entirely new AI systems that can, for example, power real-time voice translations to large groups of people, each speaking a different language, so they can seamlessly collaborate on a research project or play an AR game together,” wrote Meta in a blog post.\n",
            "\n",
            "“Ultimately, the work done with RSC will pave the way toward building technologies for the next major computing platform — the metaverse, where AI-driven applications and products will play an important role.”\n",
            "\n",
            "For production, Meta expects RSC will be 20x faster than Meta’s current V100-based clusters. RSC is also estimated to be 9x faster at running the NVIDIA Collective Communication Library (NCCL) and 3x faster at training large-scale NLP workflows.\n",
            "\n",
            "A model with tens of billions of parameters can finish training in three weeks compared with nine weeks prior to RSC.\n",
            "\n",
            "Meta says that its previous AI research infrastructure only leveraged open source and other publicly-available datasets. RSC was designed with the security and privacy controls in mind to allow Meta to use real-world examples from its production systems in production training.\n",
            "\n",
            "What this means in practice is that Meta can use RSC to advance research for vital tasks such as identifying harmful content on its platforms—using real data from them.\n",
            "\n",
            "“We believe this is the first time performance, reliability, security, and privacy have been tackled at such a scale,” says Meta.\n",
            "\n",
            "(Image Credit: Meta)\n",
            "\n",
            "Want to learn more about AI and big data from industry leaders? Check out AI & Big Data Expo. The next events in the series will be held in Santa Clara on 11-12 May 2022, Amsterdam on 20-21 September 2022, and London on 1-2 December 2022.\n",
            "\n",
            "Explore other upcoming enterprise technology events and webinars powered by TechForge here.\n"
          ]
        }
      ]
    },
    {
      "cell_type": "code",
      "source": [
        "# we get the article data from the scraping part\n",
        "article_title = article.title\n",
        "article_text = article.text\n",
        "\n",
        "# prepare template for prompt\n",
        "template = \"\"\"\n",
        "As an advanced AI, you've been tasked to summarize online articles into bulleted points. Here are a few examples of how you've done this in the past:\n",
        "\n",
        "Example 1:\n",
        "Original Article: 'The Effects of Climate Change\n",
        "Summary:\n",
        "- Climate change is causing a rise in global temperatures.\n",
        "- This leads to melting ice caps and rising sea levels.\n",
        "- Resulting in more frequent and severe weather conditions.\n",
        "\n",
        "Example 2:\n",
        "Original Article: 'The Evolution of Artificial Intelligence\n",
        "Summary:\n",
        "- Artificial Intelligence (AI) has developed significantly over the past decade.\n",
        "- AI is now used in multiple fields such as healthcare, finance, and transportation.\n",
        "- The future of AI is promising but requires careful regulation.\n",
        "\n",
        "Now, here's the article you need to summarize:\n",
        "\n",
        "==================\n",
        "Title: {article_title}\n",
        "\n",
        "{article_text}\n",
        "==================\n",
        "\n",
        "Please provide a summarized version of the article in a bulleted list format.\n",
        "\"\"\"\n",
        "\n",
        "# format prompt\n",
        "prompt = template.format(article_title=article.title, article_text=article.text)\n",
        "\n",
        "messages = [HumanMessage(content=prompt)]\n",
        "\n",
        "chat = ChatOpenAI(model_name=\"gpt-3.5-turbo\", temperature=0)"
      ],
      "metadata": {
        "id": "3TWejs9ZkRDF"
      },
      "execution_count": 6,
      "outputs": []
    },
    {
      "cell_type": "code",
      "source": [
        "# generate summary\n",
        "summary = chat(messages)\n",
        "print(summary.content)"
      ],
      "metadata": {
        "colab": {
          "base_uri": "https://localhost:8080/"
        },
        "id": "aHxxSu4NvhXc",
        "outputId": "2b8e3116-6e79-4818-e75e-89378f969649"
      },
      "execution_count": 7,
      "outputs": [
        {
          "output_type": "stream",
          "name": "stdout",
          "text": [
            "- Meta (formerly Facebook) has unveiled an AI supercomputer called the AI Research SuperCluster (RSC).\n",
            "- The RSC is expected to be the world's fastest supercomputer once complete.\n",
            "- It will be capable of training models with trillions of parameters.\n",
            "- Meta aims to use the RSC to build new AI systems for real-time voice translations and applications in the metaverse.\n",
            "- The RSC is estimated to be 20x faster than Meta's current clusters and 9x faster at running the NVIDIA Collective Communication Library (NCCL).\n",
            "- It will also be 3x faster at training large-scale natural language processing (NLP) workflows.\n",
            "- Meta designed the RSC with security and privacy controls to use real-world examples from its production systems.\n",
            "- This will allow Meta to advance research for tasks such as identifying harmful content on its platforms.\n",
            "- The RSC is expected to significantly improve training times for models with tens of billions of parameters.\n"
          ]
        }
      ]
    },
    {
      "cell_type": "markdown",
      "source": [
        "## Using output parser"
      ],
      "metadata": {
        "id": "yikopLbqn028"
      }
    },
    {
      "cell_type": "code",
      "source": [
        "from langchain.output_parsers import PydanticOutputParser\n",
        "from pydantic import validator\n",
        "from pydantic import BaseModel,Field\n",
        "from typing import List\n",
        "from langchain.prompts import PromptTemplate\n",
        "from langchain.llms import OpenAI\n",
        "\n",
        "\n",
        "class ArticleSummary(BaseModel):\n",
        "    title: str = Field(description=\"Title of the article\")\n",
        "    summary: List[str] = Field(description=\"Bulleted list summary of the article\")\n",
        "\n",
        "    # validating whether the generated summary has at least three lines\n",
        "    @validator('summary')\n",
        "    def has_three_or_more_lines(cls, list_of_lines):\n",
        "        if len(list_of_lines) < 3:\n",
        "            raise ValueError(\"Generated summary has less than three bullet points!\")\n",
        "        return list_of_lines\n",
        "\n",
        "# set up output parser\n",
        "parser = PydanticOutputParser(pydantic_object=ArticleSummary)"
      ],
      "metadata": {
        "id": "Zifk4w3ekRAY"
      },
      "execution_count": 8,
      "outputs": []
    },
    {
      "cell_type": "code",
      "source": [
        "template = \"\"\"\n",
        "You are a very good assistant that summarizes online articles.\n",
        "\n",
        "Here's the article you want to summarize.\n",
        "\n",
        "==================\n",
        "Title: {article_title}\n",
        "\n",
        "{article_text}\n",
        "==================\n",
        "\n",
        "{format_instructions}\n",
        "\"\"\"\n",
        "\n",
        "prompt = PromptTemplate(\n",
        "    template=template,\n",
        "    input_variables=['article_title','article_text'],\n",
        "    partial_variables={\"format_instructions\":parser.get_format_instructions()}\n",
        ")\n",
        "\n",
        "formatted_prompt = prompt.format_prompt(article_title=article_title,\n",
        "                                        article_text=article_text)\n",
        "\n",
        "model = OpenAI(model=\"text-davinci-003\",temperature=0.0)\n",
        "output = model(formatted_prompt.to_string())\n",
        "parsed_output = parser.parse(output)\n",
        "print(parsed_output)"
      ],
      "metadata": {
        "colab": {
          "base_uri": "https://localhost:8080/"
        },
        "id": "HtTyil7WkPVp",
        "outputId": "f9d74945-4fe3-4e8d-fa3b-da4fda2dc0c5"
      },
      "execution_count": 9,
      "outputs": [
        {
          "output_type": "stream",
          "name": "stdout",
          "text": [
            "title='Meta claims its new AI supercomputer will set records' summary=['Meta (formerly Facebook) has unveiled an AI supercomputer that it claims will be the world’s fastest.', 'The supercomputer is called the AI Research SuperCluster (RSC) and is yet to be fully complete.', 'Meta says that it will be the fastest in the world once complete and the aim is for it to be capable of training models with trillions of parameters.', 'For production, Meta expects RSC will be 20x faster than Meta’s current V100-based clusters.', 'Meta says that its previous AI research infrastructure only leveraged open source and other publicly-available datasets.', 'What this means in practice is that Meta can use RSC to advance research for vital tasks such as identifying harmful content on its platforms—using real data from them.']\n"
          ]
        }
      ]
    }
  ]
}